{
 "cells": [
  {
   "cell_type": "markdown",
   "id": "77b04bfa-b92c-4024-851a-1b82e1bfdb99",
   "metadata": {},
   "source": [
    "# Исходные данные\n",
    "\n",
    "Источник https://openflights.org/data.php\n",
    "\n",
    "Вспоминаем английский:\n",
    "\n",
    "[Даные про аэропорты тут ...ъ](https://raw.githubusercontent.com/jpatokal/openflights/master/data/airports.dat)\n",
    "\n",
    "- Airport ID Unique OpenFlights identifier for this airport:\n",
    "- Name of airport. May or may not contain the City name.\n",
    "- City Main city served by airport. May be spelled differently from Name.\n",
    "- Country Country or territory where airport is located. See Countries to cross-reference to ISO 3166-1 codes.\n",
    "- IATA 3-letter IATA code. Null if not assigned/unknown.\n",
    "- ICAO 4-letter ICAO code. Null if not assigned.\n",
    "- Latitude Decimal degrees, usually to six significant digits. Negative is South, positive is North.\n",
    "- Longitude Decimal degrees, usually to six significant digits. Negative is West, positive is East.\n",
    "- Altitude In feet.\n",
    "- Timezone Hours offset from UTC. Fractional hours are expressed as decimals, eg. India is 5.5.\n",
    "- DST Daylight savings time. One of E (Europe), A (US/Canada), S (South America), O (Australia), Z (New Zealand), N (None) or U (Unknown). See also: Help: Time\n",
    "Tz database timezone Timezone in \"tz\" (Olson) format, eg. \"America/Los_Angeles\".\n",
    "\n",
    "[Даные про маршруты тут ...](https://raw.githubusercontent.com/jpatokal/openflights/master/data/routes.dat)\n",
    "\n",
    "- Airline 2-letter (IATA) or 3-letter (ICAO) code of the airline.\n",
    "- Airline ID Unique OpenFlights identifier for airline (see Airline).\n",
    "- Source airport 3-letter (IATA) or 4-letter (ICAO) code of the source airport.\n",
    "- Source airport ID Unique OpenFlights identifier for source airport (see Airport)\n",
    "- Destination airport 3-letter (IATA) or 4-letter (ICAO) code of the destination airport.\n",
    "- Destination airport ID Unique OpenFlights identifier for destination airport (see Airport)\n",
    "- Equipment 3-letter codes for plane type(s) generally used on this flight, separated by spaces\n"
   ]
  },
  {
   "cell_type": "markdown",
   "id": "a3e2750d-c27a-4c48-86a6-327ee35371e2",
   "metadata": {},
   "source": [
    "## Загружаем данные\n",
    "\n",
    "1. Загрузить аэропорты в `airports`\n",
    "2. Загрузить маршруты в `routes`\n",
    "3. Разобраться с пропущенными данными"
   ]
  },
  {
   "cell_type": "code",
   "execution_count": null,
   "id": "de7e1c51-5fef-495d-a627-f1fa3d2e5e98",
   "metadata": {},
   "outputs": [],
   "source": []
  },
  {
   "cell_type": "markdown",
   "id": "d929a057-e795-470c-9729-2c7206375419",
   "metadata": {},
   "source": [
    "## Срезать по данные\n",
    "\n",
    "1. Срезать данные в `airports` по наличию кода IATA в переменую `iata_arports`\n",
    "2. В `iata_arports` добавьте столбец `Continents` с названием континента, на котором размещен аэропорт (Северная и Южная Америка разные континенты, Россия в Европе, Турция в Азии) используя библтотеку [pycountry_convert]"
   ]
  },
  {
   "cell_type": "code",
   "execution_count": null,
   "id": "b02708b9-8a34-4202-b253-95a117909329",
   "metadata": {},
   "outputs": [],
   "source": []
  },
  {
   "cell_type": "markdown",
   "id": "9a4efd39-e933-4c3e-aea1-fb15a211b62f",
   "metadata": {},
   "source": [
    "## Найдем еще ошибки\n",
    "\n",
    "Построим точки по континентам по отдельности. Корректируем ошибки вручную."
   ]
  },
  {
   "cell_type": "code",
   "execution_count": null,
   "id": "09918b3a-152e-45c5-9672-c55ac00e0d57",
   "metadata": {},
   "outputs": [],
   "source": []
  },
  {
   "cell_type": "markdown",
   "id": "d4b56e29-0bbd-4956-b7ed-9a2df60eeab9",
   "metadata": {},
   "source": [
    "## Взлет/посадки\n",
    "\n",
    "На основе таблиц `iata_arports` и `routes` рассчитать количество взлетов и посадок для  континента, всех стран и трех крупнейших аэропортов страны, собрать таблицу: \n",
    "- индексы - континент, страна, название аэропорта\n",
    "- колонки - сумма взет/посадкок.\n",
    "\n",
    "Упорядочить по названию континента, страны, аэропорты по взлет/посадкам"
   ]
  },
  {
   "cell_type": "code",
   "execution_count": null,
   "id": "5dc3ab0d-8075-413e-9e8b-d2ddc529cd03",
   "metadata": {},
   "outputs": [],
   "source": []
  },
  {
   "cell_type": "markdown",
   "id": "5307ed84-0e7c-41bc-bd53-43ef774608c8",
   "metadata": {},
   "source": [
    "## Международная транспортная сеть из Австралии\n",
    "\n",
    "1. Посчитать рейсы ИЗ аэропортов Австралии во вне.\n",
    "2. Визуализировать результ"
   ]
  },
  {
   "cell_type": "code",
   "execution_count": null,
   "id": "a7489f8d-8bd9-478e-a71d-a077d33c8d2c",
   "metadata": {},
   "outputs": [],
   "source": []
  },
  {
   "cell_type": "markdown",
   "id": "29db7d2c-e4cd-4748-8ed0-33d26c2eb81c",
   "metadata": {},
   "source": [
    "## Самые популярные борта\n",
    "\n",
    "В табличке `routes.csv` есть колонка Equipment - это код марки самолета в кодах IATA. Тут есть их расшифровка https://en.wikipedia.org/wiki/List_of_aircraft_type_designators (если указаны два и более борта, считаем по перевому).\n",
    "\n",
    "Найдите 10 самых популярных моделей самолетов, естественно с расшифровкой, с указанием количества рейсов выполняемых этими бортами (по числу посадок :)). Результат в виде датафрейма. Индекс номер по порядку, колонки - марка самолета и количество посадок. Упорядочить от наибольшего количества рейсов вниз."
   ]
  },
  {
   "cell_type": "code",
   "execution_count": null,
   "id": "c9dadf9f-9b22-4f95-bee4-b431900e96e2",
   "metadata": {},
   "outputs": [],
   "source": []
  }
 ],
 "metadata": {
  "kernelspec": {
   "display_name": "Python 3 (ipykernel)",
   "language": "python",
   "name": "python3"
  },
  "language_info": {
   "codemirror_mode": {
    "name": "ipython",
    "version": 3
   },
   "file_extension": ".py",
   "mimetype": "text/x-python",
   "name": "python",
   "nbconvert_exporter": "python",
   "pygments_lexer": "ipython3",
   "version": "3.12.2"
  }
 },
 "nbformat": 4,
 "nbformat_minor": 5
}
